{
 "cells": [
  {
   "cell_type": "code",
   "execution_count": 7,
   "metadata": {},
   "outputs": [
    {
     "name": "stdout",
     "output_type": "stream",
     "text": [
      "The autoreload extension is already loaded. To reload it, use:\n",
      "  %reload_ext autoreload\n"
     ]
    }
   ],
   "source": [
    "from tools.entry_anomaly_detector import EntryASMonitor\n",
    "\n",
    "%load_ext autoreload\n",
    "%autoreload"
   ]
  },
  {
   "cell_type": "code",
   "execution_count": 2,
   "metadata": {},
   "outputs": [
    {
     "data": {
      "text/html": [
       "<div>\n",
       "<style scoped>\n",
       "    .dataframe tbody tr th:only-of-type {\n",
       "        vertical-align: middle;\n",
       "    }\n",
       "\n",
       "    .dataframe tbody tr th {\n",
       "        vertical-align: top;\n",
       "    }\n",
       "\n",
       "    .dataframe thead th {\n",
       "        text-align: right;\n",
       "    }\n",
       "</style>\n",
       "<table border=\"1\" class=\"dataframe\">\n",
       "  <thead>\n",
       "    <tr style=\"text-align: right;\">\n",
       "      <th></th>\n",
       "      <th>probe_id</th>\n",
       "      <th>created</th>\n",
       "      <th>entry_rtt</th>\n",
       "      <th>entry_ip</th>\n",
       "      <th>entry_as</th>\n",
       "    </tr>\n",
       "  </thead>\n",
       "  <tbody>\n",
       "    <tr>\n",
       "      <th>0</th>\n",
       "      <td>1000067</td>\n",
       "      <td>2022-01-10 00:07:08+00:00</td>\n",
       "      <td>184.710</td>\n",
       "      <td>103.87.184.123</td>\n",
       "      <td>136106</td>\n",
       "    </tr>\n",
       "    <tr>\n",
       "      <th>1</th>\n",
       "      <td>10003</td>\n",
       "      <td>2022-01-10 00:07:02+00:00</td>\n",
       "      <td>185.559</td>\n",
       "      <td>114.5.178.138</td>\n",
       "      <td>4761</td>\n",
       "    </tr>\n",
       "    <tr>\n",
       "      <th>2</th>\n",
       "      <td>1000440</td>\n",
       "      <td>2022-01-10 00:07:05+00:00</td>\n",
       "      <td>195.732</td>\n",
       "      <td>103.87.184.123</td>\n",
       "      <td>136106</td>\n",
       "    </tr>\n",
       "    <tr>\n",
       "      <th>3</th>\n",
       "      <td>1000647</td>\n",
       "      <td>2022-01-10 00:07:12+00:00</td>\n",
       "      <td>201.101</td>\n",
       "      <td>114.5.178.138</td>\n",
       "      <td>4761</td>\n",
       "    </tr>\n",
       "    <tr>\n",
       "      <th>4</th>\n",
       "      <td>1000779</td>\n",
       "      <td>2022-01-10 00:07:10+00:00</td>\n",
       "      <td>209.106</td>\n",
       "      <td>114.5.178.138</td>\n",
       "      <td>4761</td>\n",
       "    </tr>\n",
       "    <tr>\n",
       "      <th>...</th>\n",
       "      <td>...</td>\n",
       "      <td>...</td>\n",
       "      <td>...</td>\n",
       "      <td>...</td>\n",
       "      <td>...</td>\n",
       "    </tr>\n",
       "    <tr>\n",
       "      <th>55613</th>\n",
       "      <td>55683</td>\n",
       "      <td>2022-01-11 11:37:06+00:00</td>\n",
       "      <td>195.339</td>\n",
       "      <td>114.5.178.138</td>\n",
       "      <td>4761</td>\n",
       "    </tr>\n",
       "    <tr>\n",
       "      <th>55614</th>\n",
       "      <td>55775</td>\n",
       "      <td>2022-01-11 11:37:08+00:00</td>\n",
       "      <td>197.098</td>\n",
       "      <td>103.87.184.123</td>\n",
       "      <td>136106</td>\n",
       "    </tr>\n",
       "    <tr>\n",
       "      <th>55615</th>\n",
       "      <td>599</td>\n",
       "      <td>2022-01-11 11:37:01+00:00</td>\n",
       "      <td>177.265</td>\n",
       "      <td>103.87.184.123</td>\n",
       "      <td>136106</td>\n",
       "    </tr>\n",
       "    <tr>\n",
       "      <th>55616</th>\n",
       "      <td>684</td>\n",
       "      <td>2022-01-11 11:37:15+00:00</td>\n",
       "      <td>306.375</td>\n",
       "      <td>114.5.178.138</td>\n",
       "      <td>4761</td>\n",
       "    </tr>\n",
       "    <tr>\n",
       "      <th>55617</th>\n",
       "      <td>7059</td>\n",
       "      <td>2022-01-11 11:37:12+00:00</td>\n",
       "      <td>NaN</td>\n",
       "      <td>None</td>\n",
       "      <td>None</td>\n",
       "    </tr>\n",
       "  </tbody>\n",
       "</table>\n",
       "<p>55618 rows × 5 columns</p>\n",
       "</div>"
      ],
      "text/plain": [
       "       probe_id                   created  entry_rtt        entry_ip entry_as\n",
       "0       1000067 2022-01-10 00:07:08+00:00    184.710  103.87.184.123   136106\n",
       "1         10003 2022-01-10 00:07:02+00:00    185.559   114.5.178.138     4761\n",
       "2       1000440 2022-01-10 00:07:05+00:00    195.732  103.87.184.123   136106\n",
       "3       1000647 2022-01-10 00:07:12+00:00    201.101   114.5.178.138     4761\n",
       "4       1000779 2022-01-10 00:07:10+00:00    209.106   114.5.178.138     4761\n",
       "...         ...                       ...        ...             ...      ...\n",
       "55613     55683 2022-01-11 11:37:06+00:00    195.339   114.5.178.138     4761\n",
       "55614     55775 2022-01-11 11:37:08+00:00    197.098  103.87.184.123   136106\n",
       "55615       599 2022-01-11 11:37:01+00:00    177.265  103.87.184.123   136106\n",
       "55616       684 2022-01-11 11:37:15+00:00    306.375   114.5.178.138     4761\n",
       "55617      7059 2022-01-11 11:37:12+00:00        NaN            None     None\n",
       "\n",
       "[55618 rows x 5 columns]"
      ]
     },
     "execution_count": 2,
     "metadata": {},
     "output_type": "execute_result"
    }
   ],
   "source": [
    "# path = 'measurement_data/single-probe-anchor-traceroute_1.json'\n",
    "path = 'measurement_data/traceroute-34761880.json'\n",
    "\n",
    "entry_as_monitor = EntryASMonitor()\n",
    "df = entry_as_monitor.read_dataset(path)\n",
    "df"
   ]
  },
  {
   "cell_type": "code",
   "execution_count": 8,
   "metadata": {},
   "outputs": [
    {
     "name": "stdout",
     "output_type": "stream",
     "text": [
      "Score in 4761: 59.24 at 2022-01-11 06:20:00+00:00\n",
      "Anomaly at 11/01/2022, 06:20:00 in AS4761. Problem with 109 probes. Percentage of AS: 59.24\n",
      "Score in 136106: 21.38 at 2022-01-11 06:20:00+00:00\n",
      "Anomaly at 11/01/2022, 06:20:00 in AS136106. Problem with 31 probes. Percentage of AS: 21.38\n",
      "Score in 1273: 20.0 at 2022-01-11 06:20:00+00:00\n",
      "Anomaly at 11/01/2022, 06:20:00 in AS1273. Problem with 2 probes. Percentage of AS: 20.0\n",
      "Score in 132602: 117.39 at 2022-01-11 06:20:00+00:00\n",
      "Anomaly at 11/01/2022, 06:20:00 in AS132602. Problem with 27 probes. Percentage of AS: 117.39\n",
      "Score in 17922: 54.55 at 2022-01-11 06:20:00+00:00\n",
      "Anomaly at 11/01/2022, 06:20:00 in AS17922. Problem with 6 probes. Percentage of AS: 54.55\n",
      "Score in 6453: 0.0 at 2022-01-11 06:20:00+00:00\n"
     ]
    },
    {
     "data": {
      "image/png": "[encoded data removed]",
      "text/plain": [
       "<Figure size 432x288 with 1 Axes>"
      ]
     },
     "metadata": {
      "needs_background": "light"
     },
     "output_type": "display_data"
    }
   ],
   "source": [
    "# time = '6:55'\n",
    "time = '7:20'\n",
    "df_timebox = df[(df['created'] > f'2022-01-10 {time}') & (df['created'] < f'2022-01-11 {time}')]\n",
    "\n",
    "df_outlier = entry_as_monitor.analyze(df_timebox)\n",
    "anomalies, aggregated = entry_as_monitor.filter(df_outlier)"
   ]
  },
  {
   "cell_type": "code",
   "execution_count": 116,
   "metadata": {},
   "outputs": [
    {
     "data": {
      "text/plain": [
       "created\n",
       "2022-01-10 07:20:00+00:00      0\n",
       "2022-01-10 07:40:00+00:00      0\n",
       "2022-01-10 08:00:00+00:00      1\n",
       "2022-01-10 08:20:00+00:00      3\n",
       "2022-01-10 08:40:00+00:00      2\n",
       "                            ... \n",
       "2022-01-11 05:40:00+00:00      1\n",
       "2022-01-11 06:00:00+00:00      3\n",
       "2022-01-11 06:20:00+00:00    109\n",
       "2022-01-11 06:40:00+00:00      0\n",
       "2022-01-11 07:00:00+00:00      0\n",
       "Freq: 20T, Name: level_shift, Length: 72, dtype: object"
      ]
     },
     "execution_count": 116,
     "metadata": {},
     "output_type": "execute_result"
    }
   ],
   "source": [
    "aggregated[0]"
   ]
  },
  {
   "cell_type": "code",
   "execution_count": 9,
   "metadata": {},
   "outputs": [
    {
     "data": {
      "text/plain": [
       "[{'time': Timestamp('2022-01-11 06:20:00+0000', tz='UTC', freq='20T'),\n",
       "  'ip-adresses': ['114.5.178.138'],\n",
       "  'as-number': '4761',\n",
       "  'detection-methon': 'entry_connection',\n",
       "  'anomaly-score': 59.24,\n",
       "  'probes-through-as': 184,\n",
       "  'mean-value-change': 2.3382798913043494},\n",
       " {'time': Timestamp('2022-01-11 06:20:00+0000', tz='UTC', freq='20T'),\n",
       "  'ip-adresses': ['103.87.184.123'],\n",
       "  'as-number': '136106',\n",
       "  'detection-methon': 'entry_connection',\n",
       "  'anomaly-score': 21.38,\n",
       "  'probes-through-as': 145,\n",
       "  'mean-value-change': -0.1406489361702121},\n",
       " {'time': Timestamp('2022-01-11 06:20:00+0000', tz='UTC', freq='20T'),\n",
       "  'ip-adresses': ['103.225.173.63',\n",
       "   '10.200.17.22',\n",
       "   '192.168.0.1',\n",
       "   '192.168.4.1'],\n",
       "  'as-number': '1273',\n",
       "  'detection-methon': 'entry_connection',\n",
       "  'anomaly-score': 20.0,\n",
       "  'probes-through-as': 10,\n",
       "  'mean-value-change': 1.1655000000000006},\n",
       " {'time': Timestamp('2022-01-11 06:20:00+0000', tz='UTC', freq='20T'),\n",
       "  'ip-adresses': ['27.111.229.143'],\n",
       "  'as-number': '132602',\n",
       "  'detection-methon': 'entry_connection',\n",
       "  'anomaly-score': 117.39,\n",
       "  'probes-through-as': 23,\n",
       "  'mean-value-change': 4.1060434782608715},\n",
       " {'time': Timestamp('2022-01-11 06:20:00+0000', tz='UTC', freq='20T'),\n",
       "  'ip-adresses': ['124.195.38.255'],\n",
       "  'as-number': '17922',\n",
       "  'detection-methon': 'entry_connection',\n",
       "  'anomaly-score': 54.55,\n",
       "  'probes-through-as': 11,\n",
       "  'mean-value-change': 2.64035}]"
      ]
     },
     "execution_count": 9,
     "metadata": {},
     "output_type": "execute_result"
    }
   ],
   "source": [
    "anomalies"
   ]
  },
  {
   "cell_type": "code",
   "execution_count": 41,
   "metadata": {},
   "outputs": [
    {
     "name": "stdout",
     "output_type": "stream",
     "text": [
      "2022-01-28 18:12:29.276966\n"
     ]
    }
   ],
   "source": [
    "from datetime import  datetime, timedelta\n",
    "\n",
    "qdate = datetime.now() - timedelta(days=1)\n",
    "print(qdate)"
   ]
  }
 ],
 "metadata": {
  "interpreter": {
   "hash": "ecef82cfac32211b42e0ad31793324dcf4067566d8ec5da9ea8358b5fe5c0606"
  },
  "kernelspec": {
   "display_name": "Python 3.9.7 64-bit ('datascience': conda)",
   "language": "python",
   "name": "python3"
  },
  "language_info": {
   "codemirror_mode": {
    "name": "ipython",
    "version": 3
   },
   "file_extension": ".py",
   "mimetype": "text/x-python",
   "name": "python",
   "nbconvert_exporter": "python",
   "pygments_lexer": "ipython3",
   "version": "3.9.7"
  },
  "orig_nbformat": 4
 },
 "nbformat": 4,
 "nbformat_minor": 2
}
